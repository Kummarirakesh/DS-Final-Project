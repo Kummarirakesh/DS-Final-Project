{
 "cells": [
  {
   "cell_type": "code",
   "execution_count": 1,
   "id": "fc037b55",
   "metadata": {},
   "outputs": [],
   "source": [
    "import pandas as pd\n",
    "import numpy as np\n",
    "\n",
    "import warnings\n",
    "warnings.filterwarnings('ignore')"
   ]
  },
  {
   "cell_type": "code",
   "execution_count": 2,
   "id": "e748ffa5",
   "metadata": {},
   "outputs": [],
   "source": [
    "df = pd.read_excel('online_retail_II.xlsx')"
   ]
  },
  {
   "cell_type": "code",
   "execution_count": 3,
   "id": "403ca60d",
   "metadata": {},
   "outputs": [
    {
     "data": {
      "text/html": [
       "<div>\n",
       "<style scoped>\n",
       "    .dataframe tbody tr th:only-of-type {\n",
       "        vertical-align: middle;\n",
       "    }\n",
       "\n",
       "    .dataframe tbody tr th {\n",
       "        vertical-align: top;\n",
       "    }\n",
       "\n",
       "    .dataframe thead th {\n",
       "        text-align: right;\n",
       "    }\n",
       "</style>\n",
       "<table border=\"1\" class=\"dataframe\">\n",
       "  <thead>\n",
       "    <tr style=\"text-align: right;\">\n",
       "      <th></th>\n",
       "      <th>Invoice</th>\n",
       "      <th>StockCode</th>\n",
       "      <th>Description</th>\n",
       "      <th>Quantity</th>\n",
       "      <th>InvoiceDate</th>\n",
       "      <th>Price</th>\n",
       "      <th>Customer ID</th>\n",
       "      <th>Country</th>\n",
       "    </tr>\n",
       "  </thead>\n",
       "  <tbody>\n",
       "    <tr>\n",
       "      <th>0</th>\n",
       "      <td>489434</td>\n",
       "      <td>85048</td>\n",
       "      <td>15CM CHRISTMAS GLASS BALL 20 LIGHTS</td>\n",
       "      <td>12</td>\n",
       "      <td>2009-12-01 07:45:00</td>\n",
       "      <td>6.95</td>\n",
       "      <td>13085.0</td>\n",
       "      <td>United Kingdom</td>\n",
       "    </tr>\n",
       "    <tr>\n",
       "      <th>1</th>\n",
       "      <td>489434</td>\n",
       "      <td>79323P</td>\n",
       "      <td>PINK CHERRY LIGHTS</td>\n",
       "      <td>12</td>\n",
       "      <td>2009-12-01 07:45:00</td>\n",
       "      <td>6.75</td>\n",
       "      <td>13085.0</td>\n",
       "      <td>United Kingdom</td>\n",
       "    </tr>\n",
       "    <tr>\n",
       "      <th>2</th>\n",
       "      <td>489434</td>\n",
       "      <td>79323W</td>\n",
       "      <td>WHITE CHERRY LIGHTS</td>\n",
       "      <td>12</td>\n",
       "      <td>2009-12-01 07:45:00</td>\n",
       "      <td>6.75</td>\n",
       "      <td>13085.0</td>\n",
       "      <td>United Kingdom</td>\n",
       "    </tr>\n",
       "    <tr>\n",
       "      <th>3</th>\n",
       "      <td>489434</td>\n",
       "      <td>22041</td>\n",
       "      <td>RECORD FRAME 7\" SINGLE SIZE</td>\n",
       "      <td>48</td>\n",
       "      <td>2009-12-01 07:45:00</td>\n",
       "      <td>2.10</td>\n",
       "      <td>13085.0</td>\n",
       "      <td>United Kingdom</td>\n",
       "    </tr>\n",
       "    <tr>\n",
       "      <th>4</th>\n",
       "      <td>489434</td>\n",
       "      <td>21232</td>\n",
       "      <td>STRAWBERRY CERAMIC TRINKET BOX</td>\n",
       "      <td>24</td>\n",
       "      <td>2009-12-01 07:45:00</td>\n",
       "      <td>1.25</td>\n",
       "      <td>13085.0</td>\n",
       "      <td>United Kingdom</td>\n",
       "    </tr>\n",
       "  </tbody>\n",
       "</table>\n",
       "</div>"
      ],
      "text/plain": [
       "  Invoice StockCode                          Description  Quantity  \\\n",
       "0  489434     85048  15CM CHRISTMAS GLASS BALL 20 LIGHTS        12   \n",
       "1  489434    79323P                   PINK CHERRY LIGHTS        12   \n",
       "2  489434    79323W                  WHITE CHERRY LIGHTS        12   \n",
       "3  489434     22041         RECORD FRAME 7\" SINGLE SIZE         48   \n",
       "4  489434     21232       STRAWBERRY CERAMIC TRINKET BOX        24   \n",
       "\n",
       "          InvoiceDate  Price  Customer ID         Country  \n",
       "0 2009-12-01 07:45:00   6.95      13085.0  United Kingdom  \n",
       "1 2009-12-01 07:45:00   6.75      13085.0  United Kingdom  \n",
       "2 2009-12-01 07:45:00   6.75      13085.0  United Kingdom  \n",
       "3 2009-12-01 07:45:00   2.10      13085.0  United Kingdom  \n",
       "4 2009-12-01 07:45:00   1.25      13085.0  United Kingdom  "
      ]
     },
     "execution_count": 3,
     "metadata": {},
     "output_type": "execute_result"
    }
   ],
   "source": [
    "df.head()"
   ]
  },
  {
   "cell_type": "code",
   "execution_count": 4,
   "id": "fb70ee72",
   "metadata": {},
   "outputs": [
    {
     "name": "stdout",
     "output_type": "stream",
     "text": [
      "Total data points: 525461\n"
     ]
    }
   ],
   "source": [
    "print('Total data points:', df.shape[0])"
   ]
  },
  {
   "cell_type": "markdown",
   "id": "6052e26a",
   "metadata": {},
   "source": [
    "## Data Cleaning"
   ]
  },
  {
   "cell_type": "code",
   "execution_count": 5,
   "id": "3a56ab1d",
   "metadata": {},
   "outputs": [
    {
     "name": "stdout",
     "output_type": "stream",
     "text": [
      "Invoice             0\n",
      "StockCode           0\n",
      "Description      2928\n",
      "Quantity            0\n",
      "InvoiceDate         0\n",
      "Price               0\n",
      "Customer ID    107927\n",
      "Country             0\n",
      "dtype: int64\n"
     ]
    }
   ],
   "source": [
    "print(df.isnull().sum())"
   ]
  },
  {
   "cell_type": "code",
   "execution_count": 6,
   "id": "c4d7cd8d",
   "metadata": {},
   "outputs": [],
   "source": [
    "df.drop(columns=[\"Description\", \"Customer ID\"], inplace=True)"
   ]
  },
  {
   "cell_type": "code",
   "execution_count": 7,
   "id": "9436e60d",
   "metadata": {},
   "outputs": [
    {
     "data": {
      "text/html": [
       "<div>\n",
       "<style scoped>\n",
       "    .dataframe tbody tr th:only-of-type {\n",
       "        vertical-align: middle;\n",
       "    }\n",
       "\n",
       "    .dataframe tbody tr th {\n",
       "        vertical-align: top;\n",
       "    }\n",
       "\n",
       "    .dataframe thead th {\n",
       "        text-align: right;\n",
       "    }\n",
       "</style>\n",
       "<table border=\"1\" class=\"dataframe\">\n",
       "  <thead>\n",
       "    <tr style=\"text-align: right;\">\n",
       "      <th></th>\n",
       "      <th>Invoice</th>\n",
       "      <th>StockCode</th>\n",
       "      <th>Quantity</th>\n",
       "      <th>InvoiceDate</th>\n",
       "      <th>Price</th>\n",
       "      <th>Country</th>\n",
       "    </tr>\n",
       "  </thead>\n",
       "  <tbody>\n",
       "    <tr>\n",
       "      <th>0</th>\n",
       "      <td>489434</td>\n",
       "      <td>85048</td>\n",
       "      <td>12</td>\n",
       "      <td>2009-12-01 07:45:00</td>\n",
       "      <td>6.95</td>\n",
       "      <td>United Kingdom</td>\n",
       "    </tr>\n",
       "    <tr>\n",
       "      <th>1</th>\n",
       "      <td>489434</td>\n",
       "      <td>79323P</td>\n",
       "      <td>12</td>\n",
       "      <td>2009-12-01 07:45:00</td>\n",
       "      <td>6.75</td>\n",
       "      <td>United Kingdom</td>\n",
       "    </tr>\n",
       "    <tr>\n",
       "      <th>2</th>\n",
       "      <td>489434</td>\n",
       "      <td>79323W</td>\n",
       "      <td>12</td>\n",
       "      <td>2009-12-01 07:45:00</td>\n",
       "      <td>6.75</td>\n",
       "      <td>United Kingdom</td>\n",
       "    </tr>\n",
       "    <tr>\n",
       "      <th>3</th>\n",
       "      <td>489434</td>\n",
       "      <td>22041</td>\n",
       "      <td>48</td>\n",
       "      <td>2009-12-01 07:45:00</td>\n",
       "      <td>2.10</td>\n",
       "      <td>United Kingdom</td>\n",
       "    </tr>\n",
       "    <tr>\n",
       "      <th>4</th>\n",
       "      <td>489434</td>\n",
       "      <td>21232</td>\n",
       "      <td>24</td>\n",
       "      <td>2009-12-01 07:45:00</td>\n",
       "      <td>1.25</td>\n",
       "      <td>United Kingdom</td>\n",
       "    </tr>\n",
       "  </tbody>\n",
       "</table>\n",
       "</div>"
      ],
      "text/plain": [
       "  Invoice StockCode  Quantity         InvoiceDate  Price         Country\n",
       "0  489434     85048        12 2009-12-01 07:45:00   6.95  United Kingdom\n",
       "1  489434    79323P        12 2009-12-01 07:45:00   6.75  United Kingdom\n",
       "2  489434    79323W        12 2009-12-01 07:45:00   6.75  United Kingdom\n",
       "3  489434     22041        48 2009-12-01 07:45:00   2.10  United Kingdom\n",
       "4  489434     21232        24 2009-12-01 07:45:00   1.25  United Kingdom"
      ]
     },
     "execution_count": 7,
     "metadata": {},
     "output_type": "execute_result"
    }
   ],
   "source": [
    "df.head()"
   ]
  },
  {
   "cell_type": "code",
   "execution_count": 8,
   "id": "d9eec685",
   "metadata": {},
   "outputs": [],
   "source": [
    "df[\"Date\"] = pd.to_datetime(df[\"InvoiceDate\"]).dt.date\n",
    "df[\"Time\"] = pd.to_datetime(df[\"InvoiceDate\"]).dt.time"
   ]
  },
  {
   "cell_type": "code",
   "execution_count": 9,
   "id": "663e665f",
   "metadata": {},
   "outputs": [],
   "source": [
    "df.drop(columns=[\"InvoiceDate\"], inplace=True)"
   ]
  },
  {
   "cell_type": "code",
   "execution_count": 10,
   "id": "1ce84fd9",
   "metadata": {},
   "outputs": [
    {
     "data": {
      "text/html": [
       "<div>\n",
       "<style scoped>\n",
       "    .dataframe tbody tr th:only-of-type {\n",
       "        vertical-align: middle;\n",
       "    }\n",
       "\n",
       "    .dataframe tbody tr th {\n",
       "        vertical-align: top;\n",
       "    }\n",
       "\n",
       "    .dataframe thead th {\n",
       "        text-align: right;\n",
       "    }\n",
       "</style>\n",
       "<table border=\"1\" class=\"dataframe\">\n",
       "  <thead>\n",
       "    <tr style=\"text-align: right;\">\n",
       "      <th></th>\n",
       "      <th>Invoice</th>\n",
       "      <th>StockCode</th>\n",
       "      <th>Quantity</th>\n",
       "      <th>Price</th>\n",
       "      <th>Country</th>\n",
       "      <th>Date</th>\n",
       "      <th>Time</th>\n",
       "    </tr>\n",
       "  </thead>\n",
       "  <tbody>\n",
       "    <tr>\n",
       "      <th>0</th>\n",
       "      <td>489434</td>\n",
       "      <td>85048</td>\n",
       "      <td>12</td>\n",
       "      <td>6.95</td>\n",
       "      <td>United Kingdom</td>\n",
       "      <td>2009-12-01</td>\n",
       "      <td>07:45:00</td>\n",
       "    </tr>\n",
       "    <tr>\n",
       "      <th>1</th>\n",
       "      <td>489434</td>\n",
       "      <td>79323P</td>\n",
       "      <td>12</td>\n",
       "      <td>6.75</td>\n",
       "      <td>United Kingdom</td>\n",
       "      <td>2009-12-01</td>\n",
       "      <td>07:45:00</td>\n",
       "    </tr>\n",
       "    <tr>\n",
       "      <th>2</th>\n",
       "      <td>489434</td>\n",
       "      <td>79323W</td>\n",
       "      <td>12</td>\n",
       "      <td>6.75</td>\n",
       "      <td>United Kingdom</td>\n",
       "      <td>2009-12-01</td>\n",
       "      <td>07:45:00</td>\n",
       "    </tr>\n",
       "    <tr>\n",
       "      <th>3</th>\n",
       "      <td>489434</td>\n",
       "      <td>22041</td>\n",
       "      <td>48</td>\n",
       "      <td>2.10</td>\n",
       "      <td>United Kingdom</td>\n",
       "      <td>2009-12-01</td>\n",
       "      <td>07:45:00</td>\n",
       "    </tr>\n",
       "    <tr>\n",
       "      <th>4</th>\n",
       "      <td>489434</td>\n",
       "      <td>21232</td>\n",
       "      <td>24</td>\n",
       "      <td>1.25</td>\n",
       "      <td>United Kingdom</td>\n",
       "      <td>2009-12-01</td>\n",
       "      <td>07:45:00</td>\n",
       "    </tr>\n",
       "  </tbody>\n",
       "</table>\n",
       "</div>"
      ],
      "text/plain": [
       "  Invoice StockCode  Quantity  Price         Country        Date      Time\n",
       "0  489434     85048        12   6.95  United Kingdom  2009-12-01  07:45:00\n",
       "1  489434    79323P        12   6.75  United Kingdom  2009-12-01  07:45:00\n",
       "2  489434    79323W        12   6.75  United Kingdom  2009-12-01  07:45:00\n",
       "3  489434     22041        48   2.10  United Kingdom  2009-12-01  07:45:00\n",
       "4  489434     21232        24   1.25  United Kingdom  2009-12-01  07:45:00"
      ]
     },
     "execution_count": 10,
     "metadata": {},
     "output_type": "execute_result"
    }
   ],
   "source": [
    "df.head()"
   ]
  },
  {
   "cell_type": "markdown",
   "id": "31a3cb76",
   "metadata": {},
   "source": [
    "## Feature Engineering"
   ]
  },
  {
   "cell_type": "code",
   "execution_count": 11,
   "id": "73e6d091",
   "metadata": {},
   "outputs": [],
   "source": [
    "import seaborn as sns\n",
    "import matplotlib.pyplot as plt"
   ]
  },
  {
   "cell_type": "code",
   "execution_count": 12,
   "id": "946a2032",
   "metadata": {},
   "outputs": [
    {
     "data": {
      "image/png": "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\n",
      "text/plain": [
       "<Figure size 1080x864 with 1 Axes>"
      ]
     },
     "metadata": {
      "needs_background": "light"
     },
     "output_type": "display_data"
    }
   ],
   "source": [
    "plt.figure(figsize=(15, 12))\n",
    "sns.countplot(data=df, x='Country', order=df['Country'].value_counts().index)\n",
    "plt.xticks(rotation=90)\n",
    "plt.xlabel('Country')\n",
    "plt.ylabel('Number of Sales')\n",
    "plt.title('Sales Count by Country')\n",
    "plt.show()"
   ]
  },
  {
   "cell_type": "code",
   "execution_count": 13,
   "id": "4bd13604",
   "metadata": {},
   "outputs": [
    {
     "data": {
      "text/plain": [
       "United Kingdom          485852\n",
       "EIRE                      9670\n",
       "Germany                   8129\n",
       "France                    5772\n",
       "Netherlands               2769\n",
       "Spain                     1278\n",
       "Switzerland               1187\n",
       "Portugal                  1101\n",
       "Belgium                   1054\n",
       "Channel Islands            906\n",
       "Sweden                     902\n",
       "Italy                      731\n",
       "Australia                  654\n",
       "Cyprus                     554\n",
       "Austria                    537\n",
       "Greece                     517\n",
       "United Arab Emirates       432\n",
       "Denmark                    428\n",
       "Norway                     369\n",
       "Finland                    354\n",
       "Unspecified                310\n",
       "USA                        244\n",
       "Japan                      224\n",
       "Poland                     194\n",
       "Malta                      172\n",
       "Lithuania                  154\n",
       "Singapore                  117\n",
       "RSA                        111\n",
       "Bahrain                    107\n",
       "Canada                      77\n",
       "Hong Kong                   76\n",
       "Thailand                    76\n",
       "Israel                      74\n",
       "Iceland                     71\n",
       "Korea                       63\n",
       "Brazil                      62\n",
       "West Indies                 54\n",
       "Bermuda                     34\n",
       "Nigeria                     32\n",
       "Lebanon                     13\n",
       "Name: Country, dtype: int64"
      ]
     },
     "execution_count": 13,
     "metadata": {},
     "output_type": "execute_result"
    }
   ],
   "source": [
    "df['Country'].value_counts()"
   ]
  },
  {
   "cell_type": "markdown",
   "id": "8cdadf2d",
   "metadata": {},
   "source": [
    "### Keeping only the data that belongs to the United Kingdom as it has over 95% of the total data"
   ]
  },
  {
   "cell_type": "code",
   "execution_count": 14,
   "id": "fce910c9",
   "metadata": {},
   "outputs": [],
   "source": [
    "df = df[df['Country'] == 'United Kingdom']"
   ]
  },
  {
   "cell_type": "code",
   "execution_count": 15,
   "id": "87d5840e",
   "metadata": {},
   "outputs": [
    {
     "name": "stdout",
     "output_type": "stream",
     "text": [
      "Total data points: 485852\n"
     ]
    }
   ],
   "source": [
    "print('Total data points:', df.shape[0])"
   ]
  },
  {
   "cell_type": "code",
   "execution_count": 16,
   "id": "52b910d2",
   "metadata": {},
   "outputs": [],
   "source": [
    "df.drop(columns=[\"Country\"], inplace=True)"
   ]
  },
  {
   "cell_type": "code",
   "execution_count": 17,
   "id": "5730e6c7",
   "metadata": {},
   "outputs": [
    {
     "data": {
      "text/html": [
       "<div>\n",
       "<style scoped>\n",
       "    .dataframe tbody tr th:only-of-type {\n",
       "        vertical-align: middle;\n",
       "    }\n",
       "\n",
       "    .dataframe tbody tr th {\n",
       "        vertical-align: top;\n",
       "    }\n",
       "\n",
       "    .dataframe thead th {\n",
       "        text-align: right;\n",
       "    }\n",
       "</style>\n",
       "<table border=\"1\" class=\"dataframe\">\n",
       "  <thead>\n",
       "    <tr style=\"text-align: right;\">\n",
       "      <th></th>\n",
       "      <th>Invoice</th>\n",
       "      <th>StockCode</th>\n",
       "      <th>Quantity</th>\n",
       "      <th>Price</th>\n",
       "      <th>Date</th>\n",
       "      <th>Time</th>\n",
       "    </tr>\n",
       "  </thead>\n",
       "  <tbody>\n",
       "    <tr>\n",
       "      <th>0</th>\n",
       "      <td>489434</td>\n",
       "      <td>85048</td>\n",
       "      <td>12</td>\n",
       "      <td>6.95</td>\n",
       "      <td>2009-12-01</td>\n",
       "      <td>07:45:00</td>\n",
       "    </tr>\n",
       "    <tr>\n",
       "      <th>1</th>\n",
       "      <td>489434</td>\n",
       "      <td>79323P</td>\n",
       "      <td>12</td>\n",
       "      <td>6.75</td>\n",
       "      <td>2009-12-01</td>\n",
       "      <td>07:45:00</td>\n",
       "    </tr>\n",
       "    <tr>\n",
       "      <th>2</th>\n",
       "      <td>489434</td>\n",
       "      <td>79323W</td>\n",
       "      <td>12</td>\n",
       "      <td>6.75</td>\n",
       "      <td>2009-12-01</td>\n",
       "      <td>07:45:00</td>\n",
       "    </tr>\n",
       "    <tr>\n",
       "      <th>3</th>\n",
       "      <td>489434</td>\n",
       "      <td>22041</td>\n",
       "      <td>48</td>\n",
       "      <td>2.10</td>\n",
       "      <td>2009-12-01</td>\n",
       "      <td>07:45:00</td>\n",
       "    </tr>\n",
       "    <tr>\n",
       "      <th>4</th>\n",
       "      <td>489434</td>\n",
       "      <td>21232</td>\n",
       "      <td>24</td>\n",
       "      <td>1.25</td>\n",
       "      <td>2009-12-01</td>\n",
       "      <td>07:45:00</td>\n",
       "    </tr>\n",
       "  </tbody>\n",
       "</table>\n",
       "</div>"
      ],
      "text/plain": [
       "  Invoice StockCode  Quantity  Price        Date      Time\n",
       "0  489434     85048        12   6.95  2009-12-01  07:45:00\n",
       "1  489434    79323P        12   6.75  2009-12-01  07:45:00\n",
       "2  489434    79323W        12   6.75  2009-12-01  07:45:00\n",
       "3  489434     22041        48   2.10  2009-12-01  07:45:00\n",
       "4  489434     21232        24   1.25  2009-12-01  07:45:00"
      ]
     },
     "execution_count": 17,
     "metadata": {},
     "output_type": "execute_result"
    }
   ],
   "source": [
    "df.head()"
   ]
  },
  {
   "cell_type": "code",
   "execution_count": 18,
   "id": "e6c80515",
   "metadata": {},
   "outputs": [],
   "source": [
    "data = df.copy()"
   ]
  },
  {
   "cell_type": "code",
   "execution_count": 19,
   "id": "ce9effa3",
   "metadata": {},
   "outputs": [
    {
     "data": {
      "text/html": [
       "<div>\n",
       "<style scoped>\n",
       "    .dataframe tbody tr th:only-of-type {\n",
       "        vertical-align: middle;\n",
       "    }\n",
       "\n",
       "    .dataframe tbody tr th {\n",
       "        vertical-align: top;\n",
       "    }\n",
       "\n",
       "    .dataframe thead th {\n",
       "        text-align: right;\n",
       "    }\n",
       "</style>\n",
       "<table border=\"1\" class=\"dataframe\">\n",
       "  <thead>\n",
       "    <tr style=\"text-align: right;\">\n",
       "      <th></th>\n",
       "      <th>Invoice</th>\n",
       "      <th>StockCode</th>\n",
       "      <th>Quantity</th>\n",
       "      <th>Price</th>\n",
       "      <th>Date</th>\n",
       "      <th>Time</th>\n",
       "    </tr>\n",
       "  </thead>\n",
       "  <tbody>\n",
       "    <tr>\n",
       "      <th>0</th>\n",
       "      <td>489434</td>\n",
       "      <td>85048</td>\n",
       "      <td>12</td>\n",
       "      <td>6.95</td>\n",
       "      <td>2009-12-01</td>\n",
       "      <td>07:45:00</td>\n",
       "    </tr>\n",
       "    <tr>\n",
       "      <th>1</th>\n",
       "      <td>489434</td>\n",
       "      <td>79323P</td>\n",
       "      <td>12</td>\n",
       "      <td>6.75</td>\n",
       "      <td>2009-12-01</td>\n",
       "      <td>07:45:00</td>\n",
       "    </tr>\n",
       "    <tr>\n",
       "      <th>2</th>\n",
       "      <td>489434</td>\n",
       "      <td>79323W</td>\n",
       "      <td>12</td>\n",
       "      <td>6.75</td>\n",
       "      <td>2009-12-01</td>\n",
       "      <td>07:45:00</td>\n",
       "    </tr>\n",
       "    <tr>\n",
       "      <th>3</th>\n",
       "      <td>489434</td>\n",
       "      <td>22041</td>\n",
       "      <td>48</td>\n",
       "      <td>2.10</td>\n",
       "      <td>2009-12-01</td>\n",
       "      <td>07:45:00</td>\n",
       "    </tr>\n",
       "    <tr>\n",
       "      <th>4</th>\n",
       "      <td>489434</td>\n",
       "      <td>21232</td>\n",
       "      <td>24</td>\n",
       "      <td>1.25</td>\n",
       "      <td>2009-12-01</td>\n",
       "      <td>07:45:00</td>\n",
       "    </tr>\n",
       "  </tbody>\n",
       "</table>\n",
       "</div>"
      ],
      "text/plain": [
       "  Invoice StockCode  Quantity  Price        Date      Time\n",
       "0  489434     85048        12   6.95  2009-12-01  07:45:00\n",
       "1  489434    79323P        12   6.75  2009-12-01  07:45:00\n",
       "2  489434    79323W        12   6.75  2009-12-01  07:45:00\n",
       "3  489434     22041        48   2.10  2009-12-01  07:45:00\n",
       "4  489434     21232        24   1.25  2009-12-01  07:45:00"
      ]
     },
     "execution_count": 19,
     "metadata": {},
     "output_type": "execute_result"
    }
   ],
   "source": [
    "data.head()"
   ]
  },
  {
   "cell_type": "code",
   "execution_count": 20,
   "id": "512b1cbe",
   "metadata": {},
   "outputs": [],
   "source": [
    "data['Hour'] = data['Time'].apply(lambda x: x.hour)"
   ]
  },
  {
   "cell_type": "code",
   "execution_count": 21,
   "id": "57e0d539",
   "metadata": {},
   "outputs": [],
   "source": [
    "data['Sales'] = data['Quantity'] * data['Price']"
   ]
  },
  {
   "cell_type": "code",
   "execution_count": 22,
   "id": "de64bf5b",
   "metadata": {},
   "outputs": [],
   "source": [
    "data['Sales'] = data['Sales'].abs()"
   ]
  },
  {
   "cell_type": "code",
   "execution_count": 23,
   "id": "83555794",
   "metadata": {},
   "outputs": [
    {
     "data": {
      "text/html": [
       "<div>\n",
       "<style scoped>\n",
       "    .dataframe tbody tr th:only-of-type {\n",
       "        vertical-align: middle;\n",
       "    }\n",
       "\n",
       "    .dataframe tbody tr th {\n",
       "        vertical-align: top;\n",
       "    }\n",
       "\n",
       "    .dataframe thead th {\n",
       "        text-align: right;\n",
       "    }\n",
       "</style>\n",
       "<table border=\"1\" class=\"dataframe\">\n",
       "  <thead>\n",
       "    <tr style=\"text-align: right;\">\n",
       "      <th></th>\n",
       "      <th>Invoice</th>\n",
       "      <th>StockCode</th>\n",
       "      <th>Quantity</th>\n",
       "      <th>Price</th>\n",
       "      <th>Date</th>\n",
       "      <th>Time</th>\n",
       "      <th>Hour</th>\n",
       "      <th>Sales</th>\n",
       "    </tr>\n",
       "  </thead>\n",
       "  <tbody>\n",
       "    <tr>\n",
       "      <th>0</th>\n",
       "      <td>489434</td>\n",
       "      <td>85048</td>\n",
       "      <td>12</td>\n",
       "      <td>6.95</td>\n",
       "      <td>2009-12-01</td>\n",
       "      <td>07:45:00</td>\n",
       "      <td>7</td>\n",
       "      <td>83.4</td>\n",
       "    </tr>\n",
       "    <tr>\n",
       "      <th>1</th>\n",
       "      <td>489434</td>\n",
       "      <td>79323P</td>\n",
       "      <td>12</td>\n",
       "      <td>6.75</td>\n",
       "      <td>2009-12-01</td>\n",
       "      <td>07:45:00</td>\n",
       "      <td>7</td>\n",
       "      <td>81.0</td>\n",
       "    </tr>\n",
       "    <tr>\n",
       "      <th>2</th>\n",
       "      <td>489434</td>\n",
       "      <td>79323W</td>\n",
       "      <td>12</td>\n",
       "      <td>6.75</td>\n",
       "      <td>2009-12-01</td>\n",
       "      <td>07:45:00</td>\n",
       "      <td>7</td>\n",
       "      <td>81.0</td>\n",
       "    </tr>\n",
       "    <tr>\n",
       "      <th>3</th>\n",
       "      <td>489434</td>\n",
       "      <td>22041</td>\n",
       "      <td>48</td>\n",
       "      <td>2.10</td>\n",
       "      <td>2009-12-01</td>\n",
       "      <td>07:45:00</td>\n",
       "      <td>7</td>\n",
       "      <td>100.8</td>\n",
       "    </tr>\n",
       "    <tr>\n",
       "      <th>4</th>\n",
       "      <td>489434</td>\n",
       "      <td>21232</td>\n",
       "      <td>24</td>\n",
       "      <td>1.25</td>\n",
       "      <td>2009-12-01</td>\n",
       "      <td>07:45:00</td>\n",
       "      <td>7</td>\n",
       "      <td>30.0</td>\n",
       "    </tr>\n",
       "  </tbody>\n",
       "</table>\n",
       "</div>"
      ],
      "text/plain": [
       "  Invoice StockCode  Quantity  Price        Date      Time  Hour  Sales\n",
       "0  489434     85048        12   6.95  2009-12-01  07:45:00     7   83.4\n",
       "1  489434    79323P        12   6.75  2009-12-01  07:45:00     7   81.0\n",
       "2  489434    79323W        12   6.75  2009-12-01  07:45:00     7   81.0\n",
       "3  489434     22041        48   2.10  2009-12-01  07:45:00     7  100.8\n",
       "4  489434     21232        24   1.25  2009-12-01  07:45:00     7   30.0"
      ]
     },
